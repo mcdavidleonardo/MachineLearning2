{
 "cells": [
  {
   "cell_type": "markdown",
   "metadata": {
    "slideshow": {
     "slide_type": "slide"
    }
   },
   "source": [
    "### NumPy Array\n",
    "\n",
    "**Nombre:** David L. Mejía<br>\n",
    "**Fecha:** 30/09/2025<br>\n",
    "**Git:** https://github.com/mcdavidleonardo/MachineLearning2/blob/master/NumPy_Array.ipynb<br>"
   ]
  },
  {
   "cell_type": "markdown",
   "metadata": {
    "slideshow": {
     "slide_type": "slide"
    }
   },
   "source": [
    "# NumPy ndarray\n",
    "- Representación estándar para datos numéricos en Python\n",
    "- Facilita la implementación eficiente de cálculos numéricos\n",
    "- Colección uniforme y multidimensional de elementos\n",
    "- Un array se define por el tipo de elementos que contiene (data type) y su forma (shape)"
   ]
  },
  {
   "cell_type": "code",
   "execution_count": 33,
   "metadata": {
    "tags": []
   },
   "outputs": [],
   "source": [
    "# Importar librería\n",
    "import numpy as np"
   ]
  },
  {
   "cell_type": "markdown",
   "metadata": {},
   "source": [
    "### Declarar un array y puntero a memoria"
   ]
  },
  {
   "cell_type": "code",
   "execution_count": 34,
   "metadata": {
    "tags": []
   },
   "outputs": [
    {
     "name": "stdout",
     "output_type": "stream",
     "text": [
      "Array 1D: [10 20 30 40 50]\n",
      "Tipo: <class 'numpy.ndarray'>\n",
      "Strides: (8,)\n",
      "\n",
      "Array 2D:\n",
      " [[1 2 3]\n",
      " [4 5 6]\n",
      " [7 8 9]]\n",
      "Tipo: <class 'numpy.ndarray'>\n",
      "Strides: (24, 8)\n",
      "Array Y: [10 20 30 40 50]\n",
      "Array Y: [100  20  30  40  50]\n",
      "Array 1D: [100  20  30  40  50]\n"
     ]
    }
   ],
   "source": [
    "# Array 1D\n",
    "mi_array_1d = np.array([10, 20, 30, 40, 50])\n",
    "# Se imprime el contenido del array\n",
    "print(\"Array 1D:\", mi_array_1d)\n",
    "# Se imprime el tipo de dato\n",
    "print(\"Tipo:\", type(mi_array_1d))\n",
    "# Número de bytes que se debe saltar en memoria para pasar al siguiente elemento\n",
    "print(\"Strides:\", mi_array_1d.strides)\n",
    "\n",
    "# Array 2D\n",
    "mi_array_2d = np.array([\n",
    "    [1, 2, 3],\n",
    "    [4, 5, 6],\n",
    "    [7, 8, 9]\n",
    "])\n",
    "print(\"\\nArray 2D:\\n\", mi_array_2d)\n",
    "print(\"Tipo:\", type(mi_array_2d))\n",
    "print(\"Strides:\", mi_array_2d.strides)\n",
    "\n",
    "# Al asignar un array a una variable se pasa la dirección de memoria\n",
    "y = mi_array_1d\n",
    "print(\"Array Y:\", y)\n",
    "\n",
    "y[0] = 100\n",
    "print(\"Array Y:\", y)\n",
    "print(\"Array 1D:\", mi_array_1d)"
   ]
  },
  {
   "cell_type": "code",
   "execution_count": 35,
   "metadata": {
    "tags": []
   },
   "outputs": [
    {
     "name": "stdout",
     "output_type": "stream",
     "text": [
      "Array X: [[1 2 3]\n",
      " [4 5 6]\n",
      " [7 8 9]]\n",
      "Array xT: [[1 4 7]\n",
      " [2 5 8]\n",
      " [3 6 9]]\n"
     ]
    }
   ],
   "source": [
    "# Transponer array con T\n",
    "x = np.array([\n",
    "    [1, 2, 3],\n",
    "    [4, 5, 6],\n",
    "    [7, 8, 9]\n",
    "])\n",
    "print(\"Array X:\", x)\n",
    "xT = x.T\n",
    "print(\"Array xT:\", xT)"
   ]
  },
  {
   "cell_type": "markdown",
   "metadata": {},
   "source": [
    "### Vectorización y Broadcasting\n",
    "\n",
    "- Se usa para eliminar bucles explícitos como for o while en el código\n",
    "- Las operaciones vectorizadas se ejecutan mucho más rápido que los bucles de Python\n",
    "- Broadcasting es el mecanismo que permite a NumPy realizar operaciones aritméticas en arrays de diferentes dimensiones, siempre que sus formas sean compatibles. El array más pequeño se \"estira\" mentalmente para que coincida con la forma del array más grande, sin duplicar realmente los datos (lo que ahorra memoria y tiempo)."
   ]
  },
  {
   "cell_type": "markdown",
   "metadata": {},
   "source": [
    "### Operaciones con Arrays"
   ]
  },
  {
   "cell_type": "code",
   "execution_count": 36,
   "metadata": {
    "slideshow": {
     "slide_type": "fragment"
    },
    "tags": []
   },
   "outputs": [
    {
     "name": "stdout",
     "output_type": "stream",
     "text": [
      "Array Suma: [ 5 10 15]\n",
      "Array Resta: [-1 -2 -3]\n",
      "Array Mult: [ 6 12 18]\n",
      "Array Div: [1. 2. 3.]\n"
     ]
    }
   ],
   "source": [
    "array1 = np.array([2, 4, 6])\n",
    "array2 = np.array([3, 6, 9])\n",
    "\n",
    "# Suma\n",
    "array_suma = array1 + array2\n",
    "print(\"Array Suma:\", array_suma)\n",
    "\n",
    "# Resta\n",
    "array_resta = array1 - array2\n",
    "print(\"Array Resta:\", array_resta)\n",
    "\n",
    "# Multiplicación\n",
    "array_mult = array1 * 3\n",
    "print(\"Array Mult:\", array_mult)\n",
    "\n",
    "# División\n",
    "array_div = array2 / 3\n",
    "print(\"Array Div:\", array_div)\n"
   ]
  },
  {
   "cell_type": "markdown",
   "metadata": {},
   "source": [
    "### Broadcasting\n",
    "\n",
    "- Dos arrays son compatibles si, al mirar sus dimensiones de derecha a izquierda:\n",
    "- Las dimensiones son iguales\n",
    "- Una de las dimensiones es 1"
   ]
  },
  {
   "cell_type": "code",
   "execution_count": 37,
   "metadata": {},
   "outputs": [
    {
     "name": "stdout",
     "output_type": "stream",
     "text": [
      "Tipo M: (2, 3)\n",
      "Tipo V: (2,)\n",
      "Nuevo tipo V: (2, 1)\n",
      "\n",
      "Vector V_columna (Forma 2, 1):\n",
      " [[10]\n",
      " [20]]\n",
      "\n",
      "Resultado Broadcast (M + V_columna):\n",
      " [[11 11 11]\n",
      " [20 20 20]]\n"
     ]
    }
   ],
   "source": [
    "# Matriz M (Forma: 2, 3)\n",
    "M = np.array([[1, 1, 1],\n",
    "              [0, 0, 0]])   \n",
    "print(\"Tipo M:\", M.shape)\n",
    "\n",
    "# Vector V (Forma: 2,)\n",
    "V = np.array([10, 20])      \n",
    "print(\"Tipo V:\", V.shape)\n",
    "\n",
    "# Para que las formas sean compatibles, V necesita ser expandido a (2, 1)\n",
    "# Se agrega una nueva dimensión:\n",
    "# V_columna (Forma: 2, 1) -> [[10], [20]]\n",
    "V_columna = V[:, np.newaxis]\n",
    "print(\"Nuevo tipo V:\", V_columna.shape)\n",
    "\n",
    "# M (2, 3) + V_columna (2, 1)\n",
    "# El 10 se suma a toda la primera fila.\n",
    "# El 20 se suma a toda la segunda fila.\n",
    "suma = M + V_columna\n",
    "print(\"\\nVector V_columna (Forma 2, 1):\\n\", V_columna)\n",
    "print(\"\\nResultado Broadcast (M + V_columna):\\n\", suma)\n"
   ]
  },
  {
   "cell_type": "code",
   "execution_count": 38,
   "metadata": {},
   "outputs": [
    {
     "name": "stdout",
     "output_type": "stream",
     "text": [
      "Inicio Numpy...\n",
      "Tiempo de ejecución NumPy: 0.003482 segundos\n",
      "\n",
      "Inicio Bucle...\n",
      "Tiempo de ejecución Bucle: 0.150157 segundos\n"
     ]
    }
   ],
   "source": [
    "# Ejemplo para visualizar rendimiento entre bucle y vectorización\n",
    "# Sumar los elementos de dos arrays de un millón de elementos cada uno.\n",
    "import time\n",
    "\n",
    "size = 1000000 \n",
    "array_a = np.arange(size)\n",
    "array_b = np.arange(size)\n",
    "\n",
    "# Se convierte los arrays a listas estándar de Python para la comparación con bucles.\n",
    "lista_a = array_a.tolist()\n",
    "lista_b = array_b.tolist()\n",
    "\n",
    "# Suma usando Numpy\n",
    "print(\"Inicio Numpy...\")\n",
    "tiempo_inicio_np = time.time()\n",
    "resultado_np = array_a + array_b\n",
    "tiempo_fin_np = time.time()\n",
    "tiempo_total_np = tiempo_fin_np - tiempo_inicio_np\n",
    "print(f\"Tiempo de ejecución NumPy: {tiempo_total_np:.6f} segundos\")\n",
    "\n",
    "# Suma usando bucles\n",
    "print(\"\\nInicio Bucle...\")\n",
    "tiempo_inicio_bucle = time.time()\n",
    "resultado_bucle = []\n",
    "for i in range(size):\n",
    "    resultado_bucle.append(lista_a[i] + lista_b[i])\n",
    "tiempo_fin_bucle = time.time()\n",
    "tiempo_total_bucle = tiempo_fin_bucle - tiempo_inicio_bucle\n",
    "print(f\"Tiempo de ejecución Bucle: {tiempo_total_bucle:.6f} segundos\")\n"
   ]
  },
  {
   "cell_type": "code",
   "execution_count": 39,
   "metadata": {},
   "outputs": [
    {
     "name": "stdout",
     "output_type": "stream",
     "text": [
      "Dimensiones de la Matriz M: (5000, 5000)\n",
      "Dimensiones del Vector V_columna: (5000, 1)\n",
      "\n",
      "-- No broadcasting --\n",
      "Memoria consumida por la Matriz Temporal: 190.73 MB\n",
      "Memoria consumida por el Resultado: 190.73 MB\n",
      "\n",
      "-- Broadcasting --\n",
      "Memoria total de M y V_columna: 0.00 MB\n",
      "Memoria consumida por el Resultado: 190.73 MB\n"
     ]
    }
   ],
   "source": [
    "# Ejemplo para visualizar consumo de memoria (Broadcasting)\n",
    "# Sumar un vector de 10,000 elementos a cada una de las 10,000 columnas de una matriz.\n",
    "# M = Matriz(10000 x 10000) + V = Vector(10000 x 1)\n",
    "\n",
    "# Si no se usa broadcasting, se tendría que crear una matriz temporal del mismo tamaño que M donde el vector V \n",
    "# se ha copiado 10,000 veces.\n",
    "\n",
    "import sys\n",
    "\n",
    "# Tamaño\n",
    "size = 5000\n",
    "# 8 bytes por elemento\n",
    "tipo_dato = np.float64\n",
    "\n",
    "# Generamos la matriz M (size x size)\n",
    "M = np.ones((size, size), dtype=tipo_dato) \n",
    "# Generamos el vector columna V_columna (size x 1)\n",
    "V_columna = np.arange(size, dtype=tipo_dato)[:, np.newaxis] \n",
    "\n",
    "print(f\"Dimensiones de la Matriz M: {M.shape}\")\n",
    "print(f\"Dimensiones del Vector V_columna: {V_columna.shape}\")\n",
    "\n",
    "# No broadcasting\n",
    "# Se crea una nueva matriz del tamaño de M, repitiendo el vector V size veces\n",
    "# Vector Fila de unos (1x5000)\n",
    "V_fila_unos = np.ones((1, size), dtype=tipo_dato) \n",
    "# Se multiplica el vector columna (5000x1) por el vector fila de unos (1x5000)\n",
    "matriz_temporal_grande = V_columna @ V_fila_unos \n",
    "# Suma (M + matriz_temporal_grande)\n",
    "resultado_sin_broadcast = M + matriz_temporal_grande\n",
    "memoria_copia = sys.getsizeof(matriz_temporal_grande)\n",
    "print(\"\\n-- No broadcasting --\")\n",
    "print(f\"Memoria consumida por la Matriz Temporal: {memoria_copia / (1024*1024):.2f} MB\")\n",
    "print(f\"Memoria consumida por el Resultado: {sys.getsizeof(resultado_sin_broadcast) / (1024*1024):.2f} MB\")\n",
    "# Liberamos la memoria del array temporal grande\n",
    "del matriz_temporal_grande \n",
    "del resultado_sin_broadcast\n",
    "\n",
    "# Broadcasting\n",
    "# El vector V_columna (size x 1) se difunde automáticamente sobre M (size x size)\n",
    "resultado_con_broadcast = M + V_columna\n",
    "memoria_vector = sys.getsizeof(V_columna)\n",
    "print(\"\\n-- Broadcasting --\")\n",
    "print(f\"Memoria total de M y V_columna: {(memoria_vector) / (1024*1024):.2f} MB\")\n",
    "print(f\"Memoria consumida por el Resultado: {sys.getsizeof(resultado_con_broadcast) / (1024*1024):.2f} MB\")\n"
   ]
  },
  {
   "cell_type": "markdown",
   "metadata": {},
   "source": [
    "### Memory Mapping\n",
    "\n",
    "- Es una forma de vincular un array de NumPy a un archivo binario en disco. En lugar de cargar todo el archivo a la RAM, el sistema operativo mapea una sección del archivo directamente al espacio de direcciones de memoria del proceso de Python.\n",
    "- NumPy no lee el archivo completo. Crea un objeto memmap que actúa como un array normal.\n",
    "- Cuando se intenta acceder a un elemento específico del array (por ejemplo, mi_array[1000]), el sistema operativo lee solo esa pequeña porción del archivo desde el disco a la RAM.\n",
    "- Es eficiente para trabajar con datasets gigantes."
   ]
  },
  {
   "cell_type": "code",
   "execution_count": 46,
   "metadata": {},
   "outputs": [
    {
     "name": "stdout",
     "output_type": "stream",
     "text": [
      "Creando archivo (datos_gigantes.dat)...\n",
      "Tamaño del archivo en disco: 76.29 MB\n"
     ]
    }
   ],
   "source": [
    "# Se crea un archivo grande en disco para el ejemplo\n",
    "import os\n",
    "\n",
    "nombre_archivo = 'datos_gigantes.dat'\n",
    "size = 10**7\n",
    "tipo_dato = np.float64\n",
    "\n",
    "# El archivo ocupará unos 80 MB (10^7 * 8 bytes)\n",
    "# Se crea array temporal y se guarda en el disco\n",
    "print(f\"Creando archivo ({nombre_archivo})...\")\n",
    "datos_originales = np.arange(size, dtype=tipo_dato)\n",
    "datos_originales.tofile(nombre_archivo)\n",
    "print(f\"Tamaño del archivo en disco: {os.path.getsize(nombre_archivo) / (1024**2):.2f} MB\")"
   ]
  },
  {
   "cell_type": "code",
   "execution_count": 47,
   "metadata": {},
   "outputs": [
    {
     "name": "stdout",
     "output_type": "stream",
     "text": [
      "\n",
      "Array Mapeado: (10000000,)\n",
      "Primeros 5 elementos antes del cambio: [0. 1. 2. 3. 4.]\n"
     ]
    }
   ],
   "source": [
    "# Se usa np.memmap para acceder al archivo. No se carga datos a la RAM.\n",
    "m_array = np.memmap(\n",
    "    nombre_archivo, \n",
    "    dtype=tipo_dato, \n",
    "    mode='r+',         # Permite lectura y escritura\n",
    "    shape=(size,)\n",
    ")\n",
    "\n",
    "print(f\"\\nArray Mapeado: {m_array.shape}\")\n",
    "print(f\"Primeros 5 elementos antes del cambio: {m_array[:5]}\")"
   ]
  },
  {
   "cell_type": "code",
   "execution_count": 48,
   "metadata": {},
   "outputs": [
    {
     "name": "stdout",
     "output_type": "stream",
     "text": [
      "Valor en el índice 5000000: 5000000.0\n"
     ]
    }
   ],
   "source": [
    "# Se puede acceder y modificar el memmap como si fuera un array de NumPy normal.\n",
    "# Acceder a un elemento en el medio (índice 5,000,000)\n",
    "indice_medio = size // 2 \n",
    "valor_medio = m_array[indice_medio]\n",
    "print(f\"Valor en el índice {indice_medio}: {valor_medio}\")"
   ]
  },
  {
   "cell_type": "code",
   "execution_count": 49,
   "metadata": {},
   "outputs": [
    {
     "name": "stdout",
     "output_type": "stream",
     "text": [
      "Cambiando el primer elemento a 9999.0...\n",
      "Primeros 5 elementos DESPUÉS del cambio: [9.999e+03 1.000e+00 2.000e+00 3.000e+00 4.000e+00]\n"
     ]
    }
   ],
   "source": [
    "# Asignar un nuevo valor escribe directamente en el archivo del disco.\n",
    "print(\"Cambiando el primer elemento a 9999.0...\")\n",
    "m_array[0] = 9999.0 \n",
    "\n",
    "# Para asegurar que el cambio se escriba inmediatamente en el disco (útil en modo 'w+' o 'r+')\n",
    "m_array.flush() \n",
    "\n",
    "print(f\"Primeros 5 elementos DESPUÉS del cambio: {m_array[:5]}\")"
   ]
  },
  {
   "cell_type": "code",
   "execution_count": 50,
   "metadata": {},
   "outputs": [],
   "source": [
    "# Cerrar explícitamente memmap (Obligatorio)\n",
    "# Cierra la conexión y libera el objeto.\n",
    "del m_array\n",
    "m_array_verificacion = np.memmap(nombre_archivo, dtype=tipo_dato, mode='r', shape=(size,))\n",
    "# Limpieza del archivo\n",
    "del m_array_verificacion\n",
    "os.remove(nombre_archivo)"
   ]
  },
  {
   "cell_type": "markdown",
   "metadata": {},
   "source": [
    "### Conclusiones\n",
    "\n",
    "Numpy proporciona varias ventajas:\n",
    "\n",
    "- La Vectorización brinda un rendimiento superior.\n",
    "- Mejor eficiencia en el uso de memoria.\n",
    "- Su código es transparente, fácil de entender y de mantener."
   ]
  },
  {
   "cell_type": "code",
   "execution_count": null,
   "metadata": {},
   "outputs": [],
   "source": []
  }
 ],
 "metadata": {
  "celltoolbar": "Slideshow",
  "kernelspec": {
   "display_name": "Python 3 (ipykernel)",
   "language": "python",
   "name": "python3"
  },
  "language_info": {
   "codemirror_mode": {
    "name": "ipython",
    "version": 3
   },
   "file_extension": ".py",
   "mimetype": "text/x-python",
   "name": "python",
   "nbconvert_exporter": "python",
   "pygments_lexer": "ipython3",
   "version": "3.13.7"
  }
 },
 "nbformat": 4,
 "nbformat_minor": 4
}
