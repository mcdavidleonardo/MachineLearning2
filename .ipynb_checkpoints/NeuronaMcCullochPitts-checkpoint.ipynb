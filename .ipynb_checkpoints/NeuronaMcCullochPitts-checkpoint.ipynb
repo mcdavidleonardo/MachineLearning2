{
 "cells": [
  {
   "cell_type": "markdown",
   "metadata": {},
   "source": [
    "## Neurona McCulloch - Pitts\n",
    "\n",
    "**Nombre:** David L. Mejía<br>\n",
    "**Fecha:** 26/09/2025<br>\n",
    "**Git:** https://github.com/mcdavidleonardo/MachineLearning2/blob/master/NeuronaMcCullochPitts.ipynb<br>"
   ]
  },
  {
   "cell_type": "markdown",
   "metadata": {},
   "source": [
    "### 1. Implementación de la MPNeuron"
   ]
  },
  {
   "cell_type": "code",
   "execution_count": 1,
   "metadata": {},
   "outputs": [],
   "source": [
    "import numpy as np\n",
    "\n",
    "class MPNeuron:\n",
    "\n",
    "    def __init__(self):\n",
    "        self.threshlod = None\n",
    "\n",
    "    def model(self, x):\n",
    "        # input: [1, 0, 1, 0] [x1, x2, .., xn]\n",
    "        # Agregación\n",
    "        z = sum(x)\n",
    "        # Activación\n",
    "        return (z >= self.threshold)\n",
    "\n",
    "    def predict(self, X):\n",
    "        # input: [1, 0, 1, 0], [1, 0, 1, 1]\n",
    "        Y = []\n",
    "        for x in X:\n",
    "            result = self.model(x)\n",
    "            Y.append(result)\n",
    "        return np.array(Y)"
   ]
  },
  {
   "cell_type": "code",
   "execution_count": 2,
   "metadata": {},
   "outputs": [],
   "source": [
    "# Instanciar la neurona\n",
    "mp_neuron = MPNeuron()"
   ]
  },
  {
   "cell_type": "code",
   "execution_count": 3,
   "metadata": {},
   "outputs": [],
   "source": [
    "# Establecer threshold\n",
    "mp_neuron.threshold = 4"
   ]
  },
  {
   "cell_type": "code",
   "execution_count": 4,
   "metadata": {},
   "outputs": [
    {
     "data": {
      "text/plain": [
       "array([False,  True, False])"
      ]
     },
     "execution_count": 4,
     "metadata": {},
     "output_type": "execute_result"
    }
   ],
   "source": [
    "# Evaluamos casos de uso\n",
    "mp_neuron.predict([[1,0,0,0],[1,1,1,1],[1,1,1,0]])"
   ]
  },
  {
   "cell_type": "code",
   "execution_count": null,
   "metadata": {},
   "outputs": [],
   "source": []
  }
 ],
 "metadata": {
  "kernelspec": {
   "display_name": "Python 3 (ipykernel)",
   "language": "python",
   "name": "python3"
  },
  "language_info": {
   "codemirror_mode": {
    "name": "ipython",
    "version": 3
   },
   "file_extension": ".py",
   "mimetype": "text/x-python",
   "name": "python",
   "nbconvert_exporter": "python",
   "pygments_lexer": "ipython3",
   "version": "3.13.7"
  }
 },
 "nbformat": 4,
 "nbformat_minor": 4
}
